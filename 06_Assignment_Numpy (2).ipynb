{
  "nbformat": 4,
  "nbformat_minor": 0,
  "metadata": {
    "colab": {
      "provenance": []
    },
    "kernelspec": {
      "name": "python3",
      "display_name": "Python 3"
    },
    "language_info": {
      "name": "python"
    }
  },
  "cells": [
    {
      "cell_type": "markdown",
      "source": [
        "#Theoretical Questions:"
      ],
      "metadata": {
        "id": "bmqqTrOZaP7Q"
      }
    },
    {
      "cell_type": "markdown",
      "source": [
        "#Question 1. Explain the purpose and advantages of NumPy in scientific computing and data analysis. How does it enhance Python's capabilities for numerical operations?\n",
        "\n",
        "#Answer :\n",
        "\n",
        "NumPy, which stands for Numerical Python, is a key library in Python used for handling large-scale numerical data. It provides powerful tools for working with multi-dimensional arrays and matrices, along with a suite of mathematical functions that make it highly effective for scientific computing and data analysis.\n",
        "\n",
        "\n",
        "**Purpose of NumPy in Scientific Computing and Data Analysis:**\n",
        "\n",
        "Efficient Data Management: NumPy is designed to handle large datasets with greater efficiency than native Python lists. It allows for faster access to data and more compact storage, making it ideal for managing complex numerical data, which is essential in scientific applications.\n",
        "\n",
        "**Multi-dimensional Arrays:**\n",
        "\n",
        "The core structure of NumPy is the ndarray, which supports n-dimensional arrays of homogeneous data types. These arrays are crucial for handling vectors, matrices, and higher-dimensional data in fields like linear algebra, machine learning, and physics simulations.\n",
        "\n",
        "**Comprehensive Mathematical Functions:**\n",
        "\n",
        "NumPy includes a vast array of mathematical operations, from basic element-wise functions to more complex operations such as matrix multiplication, Fourier transforms, and statistical calculations. This makes it highly useful for tasks involving data analysis and numerical computations.\n",
        "\n",
        "**Integration with Other Tools:**\n",
        "\n",
        "NumPy is widely compatible with other scientific and data libraries like Pandas, SciPy, and Matplotlib, making it a foundational tool in Python's scientific and data analysis ecosystem.\n",
        "\n",
        "\n",
        "**Advantages of NumPy:**\n",
        "\n",
        "**High Performance:** NumPy arrays are implemented in C, making them faster and more efficient than Python lists. Operations on NumPy arrays are often vectorized, meaning they are performed across entire arrays at once, which boosts performance by avoiding loops and repetitive operations.\n",
        "\n",
        "**Memory Efficiency:** Arrays in NumPy are stored in contiguous memory blocks and are of fixed data types, which reduces memory overhead compared to Python lists. This structure also improves cache performance, further enhancing speed.\n",
        "\n",
        "**Vectorized Operations and Broadcasting:**\n",
        "\n",
        "NumPy allows operations to be applied to entire arrays in a single step, a process known as vectorization. This eliminates the need for explicit loops and results in cleaner, faster code. With broadcasting, NumPy can automatically expand arrays with different shapes to enable operations between them without creating copies, which saves memory and time.\n",
        "\n",
        "**Easy Integration with Low-Level Code:**\n",
        "\n",
        "NumPy arrays can be easily passed to and from C, C++, or Fortran, which is beneficial for scientific applications where performance is critical, and some functionality is implemented in these lower-level languages.\n",
        "\n",
        "**Core of a Rich Ecosystem:**\n",
        "\n",
        "NumPy serves as the backbone for numerous other Python libraries used in data science and machine learning, such as Pandas for data manipulation, SciPy for more advanced scientific computations, and TensorFlow for machine learning. This makes NumPy a foundational part of Python’s scientific computing environment.\n",
        "\n",
        "\n",
        "**Enhancing Python’s Numerical Capabilities:**\n",
        "\n",
        "Element-wise Operations: NumPy allows operations such as addition, multiplication, or exponentiation to be applied directly across entire arrays, making the code more concise and the execution faster compared to iterating over lists with loops.\n",
        "\n",
        "\n",
        "**Complex Data Handling:**\n",
        "NumPy simplifies operations on matrices, vectors, and multi-dimensional arrays, which are essential for tasks like solving systems of equations or performing statistical analysis.\n",
        "\n",
        "**Advanced Indexing and Slicing:**\n",
        "NumPy provides robust options for slicing, masking, and filtering arrays, allowing users to efficiently manipulate data with greater flexibility.\n",
        "\n",
        "\n",
        "In summary, NumPy significantly enhances Python’s ability to perform numerical operations by offering high-performance arrays and a broad set of mathematical tools. Its speed, memory efficiency, and integration with other libraries make it a critical tool for scientific computing and data analysis in Python."
      ],
      "metadata": {
        "id": "RddbNqL5aR-I"
      }
    },
    {
      "cell_type": "markdown",
      "source": [
        "#Question 2. Compare and contrast np.mean() and np.average() functions in NumPy. When would you use one over the other?\n",
        "\n",
        "#Answer :\n",
        "\n",
        "In NumPy, both np.mean() and np.average() functions are used to calculate the average of an array, but they serve slightly different purposes and offer distinct features. Here's a breakdown of their differences and when to use each:\n",
        "\n",
        "#np.mean()\n",
        "\n",
        "**Purpose:**\n",
        "This function calculates the arithmetic mean of an array along a specified axis.\n",
        "\n",
        "**Syntax:** numpy.mean(a, axis=None, dtype=None, out=None, keepdims=False)  \n",
        "\n",
        "**Parameters:**\n",
        "\n",
        "**a:**The input array containing the data.\n",
        "\n",
        "**axis:**The axis or axes along which the mean is computed. If set to None, it calculates the mean of the flattened array.\n",
        "\n",
        "**dtype:** Specifies the data type used in the computation.\n",
        "\n",
        "**out:** An optional alternative output array for storing the result.\n",
        "\n",
        "**keepdims:** If True, the output retains the reduced dimensions with size one.\n",
        "\n",
        "**Return Value:** Returns the mean of the array elements.\n",
        "\n",
        "**When to Use:** Use np.mean() when you need a simple average across an array, particularly when all elements have equal importance.\n",
        "\n",
        "\n",
        "\n",
        "#np.average()\n",
        "\n",
        "**Purpose:** This function computes the weighted average of an array. It can also perform a standard average if no weights are specified.\n",
        "Syntax: numpy.average(a, axis=None, weights=None, returned=False)\n",
        "\n",
        "**Parameters:**\n",
        "\n",
        "**a:** The input array.\n",
        "\n",
        "**axis:** The axis or axes along which the average is calculated.\n",
        "\n",
        "**weights:** Optional weights for each element in the array, which must match the shape of a. If not provided, all elements are considered equally weighted.\n",
        "\n",
        "**returned:** If set to True, it returns a tuple with the average and the total sum of the weights.\n",
        "\n",
        "**Return Value:** Gives the weighted average of the array elements or the simple average if weights are omitted.\n",
        "\n",
        "**When to Use:** Opt for np.average() when elements have varying levels of significance, as it allows you to account for these differences in the calculation.\n"
      ],
      "metadata": {
        "id": "khkWq9UvbqWB"
      }
    },
    {
      "cell_type": "code",
      "source": [
        "#Example Usage\n",
        "\n",
        "import numpy as np\n",
        "\n",
        "# Sample array\n",
        "data = np.array([1, 2, 3, 4, 5])\n",
        "\n",
        "# Using np.mean()\n",
        "mean_result = np.mean(data)  # Result: 3.0\n",
        "\n",
        "# Using np.average() without weights\n",
        "average_result = np.average(data)  # Result: 3.0\n",
        "\n",
        "# Using np.average() with weights\n",
        "weights = np.array([1, 2, 3, 4, 5])\n",
        "weighted_average_result = np.average(data, weights=weights)  # Result: 4.0"
      ],
      "metadata": {
        "id": "kwzv8rdbfrjX"
      },
      "execution_count": 2,
      "outputs": []
    },
    {
      "cell_type": "markdown",
      "source": [
        "choose np.mean() for straightforward averaging when all values are treated equally. In contrast, select np.average() when you need to consider different weights for your data points, enabling a more nuanced average calculation."
      ],
      "metadata": {
        "id": "FmA7_CUOf-v3"
      }
    },
    {
      "cell_type": "markdown",
      "source": [
        "#Question 3. Describe the methods for reversing a NumPy array along different axes. Provide examples for 1D and 2D arrays\n",
        "\n",
        "#Answer :\n",
        "\n",
        "In NumPy, arrays can be reversed along different axes using slicing or the numpy.flip function. Let's explore the methods for 1D and 2D arrays with examples.\n",
        "\n"
      ],
      "metadata": {
        "id": "0_h_Sq5DgB9f"
      }
    },
    {
      "cell_type": "code",
      "source": [
        "#Reversing a 1D Array\n",
        "#To reverse a 1D array, you can use slicing syntax [::-1].\n",
        "\n",
        "#Example:\n",
        "\n",
        "import numpy as np\n",
        "\n",
        "# Create a 1D array\n",
        "arr_1d = np.array([1, 2, 3, 4, 5])\n",
        "\n",
        "# Reverse the array using slicing\n",
        "reversed_1d = arr_1d[::-1]\n",
        "print(reversed_1d)"
      ],
      "metadata": {
        "colab": {
          "base_uri": "https://localhost:8080/"
        },
        "id": "nm7NBmaEgKhw",
        "outputId": "8f495ebf-01db-4c18-a846-60f0a241d165"
      },
      "execution_count": 3,
      "outputs": [
        {
          "output_type": "stream",
          "name": "stdout",
          "text": [
            "[5 4 3 2 1]\n"
          ]
        }
      ]
    },
    {
      "cell_type": "markdown",
      "source": [
        "**Reversing a 2D Array**\n",
        "\n",
        "For 2D arrays, you can reverse along different dimensions, such as rows (axis 0) or columns (axis 1).\n",
        "\n",
        "**1. Reverse the Rows (Axis 0)**\n",
        "To reverse the rows of a 2D array, use slicing [::-1, :] or numpy.flip(arr, axis=0).\n",
        "\n"
      ],
      "metadata": {
        "id": "uJ77bDgIg_9Q"
      }
    },
    {
      "cell_type": "code",
      "source": [
        "arr_2d = np.array([[1, 2, 3],\n",
        "                   [4, 5, 6],\n",
        "                   [7, 8, 9]])\n",
        "\n",
        "# Reverse rows using slicing\n",
        "reversed_rows = arr_2d[::-1, :]\n",
        "print(reversed_rows)\n",
        "\n",
        "# Reverse rows using numpy.flip\n",
        "reversed_rows_flip = np.flip(arr_2d, axis=0)\n",
        "print(reversed_rows_flip)\n"
      ],
      "metadata": {
        "colab": {
          "base_uri": "https://localhost:8080/"
        },
        "id": "K2bDAr4ShF1o",
        "outputId": "42d31180-43ab-4048-d844-6eda50619346"
      },
      "execution_count": 4,
      "outputs": [
        {
          "output_type": "stream",
          "name": "stdout",
          "text": [
            "[[7 8 9]\n",
            " [4 5 6]\n",
            " [1 2 3]]\n",
            "[[7 8 9]\n",
            " [4 5 6]\n",
            " [1 2 3]]\n"
          ]
        }
      ]
    },
    {
      "cell_type": "markdown",
      "source": [],
      "metadata": {
        "id": "PYkqcovEaSYv"
      }
    },
    {
      "cell_type": "markdown",
      "source": [
        "**2. Reverse the Columns (Axis 1)**\n",
        "\n",
        "To reverse the columns, apply slicing [:, ::-1] or numpy.flip(arr, axis=1)."
      ],
      "metadata": {
        "id": "7_erHRxAhetn"
      }
    },
    {
      "cell_type": "code",
      "source": [
        "import numpy as np\n",
        "\n",
        "# Create a sample 2D array\n",
        "arr_2d = np.array([[1, 2, 3],\n",
        "                   [4, 5, 6],\n",
        "                   [7, 8, 9]])\n",
        "\n",
        "# Reverse columns using slicing\n",
        "reversed_columns = arr_2d[:, ::-1]\n",
        "print(\"Reversed columns using slicing:\")\n",
        "print(reversed_columns)\n",
        "\n",
        "# Reverse columns using numpy.flip\n",
        "reversed_columns_flip = np.flip(arr_2d, axis=1)\n",
        "print(\"\\nReversed columns using numpy.flip:\")\n",
        "print(reversed_columns_flip)"
      ],
      "metadata": {
        "colab": {
          "base_uri": "https://localhost:8080/"
        },
        "id": "J0JLzJHrhhf3",
        "outputId": "97064899-7d0a-4f07-da39-0235523d261a"
      },
      "execution_count": 8,
      "outputs": [
        {
          "output_type": "stream",
          "name": "stdout",
          "text": [
            "Reversed columns using slicing:\n",
            "[[3 2 1]\n",
            " [6 5 4]\n",
            " [9 8 7]]\n",
            "\n",
            "Reversed columns using numpy.flip:\n",
            "[[3 2 1]\n",
            " [6 5 4]\n",
            " [9 8 7]]\n"
          ]
        }
      ]
    },
    {
      "cell_type": "markdown",
      "source": [
        "**3. Reverse Both Rows and Columns**\n",
        "\n",
        "To reverse both rows and columns at the same time, combine slicing [::-1, ::-1] or use numpy.flip without specifying an axis."
      ],
      "metadata": {
        "id": "TtZeNfericOf"
      }
    },
    {
      "cell_type": "code",
      "source": [
        "import numpy as np\n",
        "\n",
        "# Example 2D array\n",
        "arr_2d = np.array([[1, 2, 3],\n",
        "                   [4, 5, 6],\n",
        "                   [7, 8, 9]])\n",
        "\n",
        "# Reverse both rows and columns using slicing\n",
        "reversed_both = arr_2d[::-1, ::-1]\n",
        "print(\"Reversed using slicing:\\n\", reversed_both)\n",
        "\n",
        "# Reverse both rows and columns using numpy.flip\n",
        "reversed_both_flip = np.flip(arr_2d)\n",
        "print(\"Reversed using np.flip:\\n\", reversed_both_flip)"
      ],
      "metadata": {
        "colab": {
          "base_uri": "https://localhost:8080/"
        },
        "id": "KMn6nRSWifQ3",
        "outputId": "31caa501-38c1-48fe-fa95-9b1a6db922e6"
      },
      "execution_count": 10,
      "outputs": [
        {
          "output_type": "stream",
          "name": "stdout",
          "text": [
            "Reversed using slicing:\n",
            " [[9 8 7]\n",
            " [6 5 4]\n",
            " [3 2 1]]\n",
            "Reversed using np.flip:\n",
            " [[9 8 7]\n",
            " [6 5 4]\n",
            " [3 2 1]]\n"
          ]
        }
      ]
    },
    {
      "cell_type": "markdown",
      "source": [
        "You can use slicing ([::-1]) to reverse arrays along specific axes.\n",
        "numpy.flip is another convenient way to reverse arrays along specified dimensions.\n",
        "\n",
        "These methods provide a simple and flexible way to reverse arrays in NumPy, depending on the dimensions and axes you're working with."
      ],
      "metadata": {
        "id": "g3V1wCrcjGOn"
      }
    },
    {
      "cell_type": "markdown",
      "source": [
        "#Question 4. How can you determine the data type of elements in a NumPy array? Discuss the importance of data types in memory management and performance.\n",
        "\n",
        "#Answer :\n",
        "\n",
        "To identify the data type of elements in a NumPy array, you can access the dtype attribute. Here’s a simple example:"
      ],
      "metadata": {
        "id": "K3W6yi0gjVP3"
      }
    },
    {
      "cell_type": "code",
      "source": [
        "import numpy as np\n",
        "\n",
        "# Create a NumPy array\n",
        "array = np.array([1, 2, 3])\n",
        "\n",
        "# Determine the data type of the elements\n",
        "print(array.dtype)"
      ],
      "metadata": {
        "colab": {
          "base_uri": "https://localhost:8080/"
        },
        "id": "2-85W0Bkjblm",
        "outputId": "d143ee5a-a6ff-42da-f7ea-6364201e0d95"
      },
      "execution_count": 11,
      "outputs": [
        {
          "output_type": "stream",
          "name": "stdout",
          "text": [
            "int64\n"
          ]
        }
      ]
    },
    {
      "cell_type": "markdown",
      "source": [
        "In this case, array.dtype will output int64, indicating that the elements are 64-bit integers.\n",
        "\n",
        "**Significance of Data Types in Memory Management and Performance**\n",
        "\n",
        "**Memory Management:**\n",
        "\n",
        "**Fixed-size Storage:** NumPy arrays allocate memory in contiguous blocks, and the dtype defines how much memory is assigned to each element. For instance, int32 consumes 4 bytes, whereas float64 requires 8 bytes. Selecting an appropriate data type is vital for optimizing memory usage. Using smaller types, such as int8 instead of int64, can significantly decrease memory usage, especially with large datasets.\n",
        "\n",
        "**Memory Alignment:** NumPy arrays are optimized for high-performance computations, which often rely on memory alignment for quicker data access. Choosing the right data type enhances cache efficiency and reduces memory access, ultimately speeding up computations.\n",
        "\n",
        "**Performance:**\n",
        "Vectorized Operations: NumPy supports vectorized operations that are fine-tuned based on data types. Operations on smaller data types (like int8 or float32) can be executed more quickly than those on larger types (float64) because they require less processing power. The choice of dtype significantly influences the execution speed of arithmetic operations, such as matrix multiplications and element-wise additions.\n",
        "\n",
        "**Precision:** The dtype also affects the precision of calculations involving floating-point numbers. For example, using float32 might introduce rounding errors, while float64 offers greater accuracy at a performance cost. Striking the right balance between precision and performance is crucial in scientific computing.\n",
        "\n",
        "Making informed choices about data types in NumPy arrays is essential for optimizing memory use and computational efficiency. This consideration is especially important in large-scale numerical and scientific applications."
      ],
      "metadata": {
        "id": "C5zEZSzejhhv"
      }
    },
    {
      "cell_type": "markdown",
      "source": [
        "#Question 5. Define ndarrays in NumPy and explain their key features. How do they differ from standard Python lists?\n",
        "\n",
        "#Answer :\n",
        "\n",
        "**Understanding Ndarrays in NumPy**\n",
        "\n",
        "Ndarrays (n-dimensional arrays) are the core data structure in NumPy, a library designed for numerical computing in Python. These arrays are powerful tools for handling and manipulating large datasets. Here’s a closer look at their main characteristics and how they differ from standard Python lists.\n",
        "\n",
        "**Key Features of Ndarrays**\n",
        "\n",
        "**Homogeneous Data:**\n",
        "All elements within an ndarray are of the same data type, which can be defined when the array is created (such as integers, floats, etc.). This uniformity leads to better performance and memory efficiency.\n",
        "\n",
        "**Multidimensional:**\n",
        "Ndarrays can have any number of dimensions, making it easy to represent complex data structures. For example, a one-dimensional array resembles a vector, while a two-dimensional array is akin to a matrix. Higher dimensions can be used for more intricate data representations.\n",
        "\n",
        "**Shape and Size:**\n",
        "Each ndarray has a shape attribute that indicates its dimensions (e.g., (3, 4) for a 3x4 array), while the total number of elements is accessible via the size attribute, which is the product of its dimensions.\n",
        "\n",
        "**Efficient Operations:**\n",
        "You can perform element-wise operations directly on ndarrays, allowing mathematical operations across the entire array without explicit iteration. This feature significantly enhances performance and simplicity in computations.\n",
        "\n",
        "**Memory Efficiency:**\n",
        "Ndarrays utilize contiguous blocks of memory and are more memory-efficient than Python lists, especially for large datasets, as they have a fixed type.\n",
        "\n",
        "**Built-in Mathematical Functions:**\n",
        "NumPy offers a comprehensive suite of mathematical functions that can be applied directly to ndarrays, including operations for linear algebra, statistics, and Fourier transforms.\n",
        "Differences Between Ndarrays and Python Lists\n",
        "\n",
        "**Data Type Restrictions:**\n",
        "Python lists can store elements of varying data types (e.g., integers, strings, and objects), while ndarrays must contain elements of a single type.\n",
        "\n",
        "**Performance:**\n",
        "For numerical computations, ndarrays generally outperform lists in both speed and memory efficiency, particularly when dealing with large datasets.\n",
        "\n",
        "**Functionality:**\n",
        "Ndarrays benefit from an extensive range of NumPy functions specifically designed for numerical computations, which are not available for standard Python lists.\n",
        "\n",
        "**Dimensionality:**\n",
        "While Python lists can be nested to create multi-dimensional structures, they do not inherently support multi-dimensionality like ndarrays.\n",
        "\n",
        "**Syntax and Usage:**\n",
        "Operations on ndarrays tend to be more concise and intuitive, thanks to built-in support for vectorization and broadcasting, unlike the more verbose syntax often required for lists."
      ],
      "metadata": {
        "id": "USXhqGt7kHe4"
      }
    },
    {
      "cell_type": "code",
      "source": [
        "\n",
        "#Example of Using Ndarrays\n",
        "#Here’s a brief example illustrating how to create and manipulate ndarrays in NumPy:\n",
        "\n",
        "\n",
        "import numpy as np\n",
        "\n",
        "# Creating a 1D ndarray\n",
        "array_1d = np.array([1, 2, 3, 4])\n",
        "print(\"1D Array:\", array_1d)\n",
        "\n",
        "# Creating a 2D ndarray\n",
        "array_2d = np.array([[1, 2, 3], [4, 5, 6]])\n",
        "print(\"2D Array:\\n\", array_2d)\n",
        "\n",
        "# Element-wise addition\n",
        "array_sum = array_1d + 5\n",
        "print(\"Element-wise Addition:\", array_sum)\n",
        "\n",
        "# Shape and Size\n",
        "print(\"Shape of 2D Array:\", array_2d.shape)\n",
        "print(\"Size of 2D Array:\", array_2d.size)\n"
      ],
      "metadata": {
        "colab": {
          "base_uri": "https://localhost:8080/"
        },
        "id": "7kUqwyzslIu3",
        "outputId": "bba5ab27-926b-4f07-f120-9ee03259e1d4"
      },
      "execution_count": 12,
      "outputs": [
        {
          "output_type": "stream",
          "name": "stdout",
          "text": [
            "1D Array: [1 2 3 4]\n",
            "2D Array:\n",
            " [[1 2 3]\n",
            " [4 5 6]]\n",
            "Element-wise Addition: [6 7 8 9]\n",
            "Shape of 2D Array: (2, 3)\n",
            "Size of 2D Array: 6\n"
          ]
        }
      ]
    },
    {
      "cell_type": "markdown",
      "source": [
        "ndarrays are an essential feature of the NumPy library, providing significant advantages over standard Python lists for numerical data processing. Their performance, functionality, and ease of use make them ideal for scientific and mathematical applications."
      ],
      "metadata": {
        "id": "ZKPob3IAlSV_"
      }
    },
    {
      "cell_type": "markdown",
      "source": [
        "#Question 6. Analyze the performance benefits of NumPy arrays over Python lists for large-scale numerical operations.\n",
        "\n",
        "#Answer :\n",
        "\n",
        "NumPy arrays provide substantial advantages compared to Python lists, especially when it comes to handling large-scale numerical tasks. Below are the key performance benefits of using NumPy:\n",
        "\n",
        "**1. Memory Efficiency**\n",
        "\n",
        "**Contiguous Storage:** NumPy arrays are allocated in contiguous memory, which enhances access speed due to better cache utilization. This arrangement minimizes cache misses, contributing to improved overall performance.\n",
        "\n",
        "**Lower Overhead:** Unlike Python lists, which store references to objects and have to manage dynamic resizing, NumPy arrays have a fixed data type and size. This reduces memory overhead, allowing for more efficient storage.\n",
        "\n",
        "**2. Operational Performance**\n",
        "\n",
        "**Vectorized Operations:** NumPy supports vectorization, enabling users to perform operations on entire arrays without the need for explicit loops. This leads to more concise and faster code execution.\n",
        "\n",
        "**Broadcasting Capabilities:** The broadcasting feature allows operations to be performed on arrays of different shapes without requiring explicit resizing, simplifying the code and reducing the need for loops.\n",
        "**Performance Optimization:** Many of NumPy's operations are implemented in lower-level languages like C or Fortran, which significantly boosts execution speed compared to equivalent Python code that relies on looping through lists.\n",
        "\n",
        "**3. User-Friendly Features**\n",
        "Extensive Mathematical Functions: NumPy includes a wide range of optimized mathematical functions for tasks such as linear algebra and statistics. This rich functionality allows for efficient computation that is often more complex to implement using Python lists.\n",
        "\n",
        "**Multi-dimensional Array Support:** NumPy natively supports multi-dimensional arrays, making it easier to handle complex data structures like matrices and tensors compared to using nested lists.\n",
        "\n",
        "\n",
        "**4. Enhanced Parallel Processing**\n",
        "\n",
        "**Optimized for Speed:** NumPy can utilize libraries such as BLAS and LAPACK, which are designed for high-performance computations. This capability allows NumPy to execute operations more efficiently than standard Python lists, which lack such optimizations.\n",
        "\n",
        "**5. Speed Benefits**\n",
        "\n",
        "**Faster Computations:** Benchmarks consistently show that NumPy can perform operations on large datasets significantly faster than equivalent operations on Python lists. For instance, tasks like adding two large arrays or calculating their dot product are much quicker with NumPy.\n",
        "\n",
        "**6. Precision Control Defined Data Types:** NumPy allows users to explicitly specify data types (e.g., float32, int64), which can optimize both memory usage and computation speed based on the specific needs of a task.\n",
        "\n",
        "\n",
        "**Example of Performance Difference**\n",
        "To highlight the performance difference, consider the following comparison of array operations using Python lists versus NumPy arrays:\n"
      ],
      "metadata": {
        "id": "dxt7FCidlm9H"
      }
    },
    {
      "cell_type": "code",
      "source": [
        "import numpy as np\n",
        "import time\n",
        "\n",
        "# Defining the size of the array\n",
        "size = 10**7\n",
        "\n",
        "# Timing operations with Python lists\n",
        "start_time = time.time()\n",
        "list_a = list(range(size))\n",
        "list_b = list(range(size))\n",
        "list_c = [x + y for x, y in zip(list_a, list_b)]\n",
        "print(\"List time: \", time.time() - start_time)\n",
        "\n",
        "# Timing operations with NumPy arrays\n",
        "start_time = time.time()\n",
        "array_a = np.arange(size)\n",
        "array_b = np.arange(size)\n",
        "array_c = array_a + array_b\n",
        "print(\"NumPy time: \", time.time() - start_time)"
      ],
      "metadata": {
        "colab": {
          "base_uri": "https://localhost:8080/"
        },
        "id": "Nn7qY7MNmZxQ",
        "outputId": "4e0fd271-88f3-4acd-c8dd-eb94c710edec"
      },
      "execution_count": 13,
      "outputs": [
        {
          "output_type": "stream",
          "name": "stdout",
          "text": [
            "List time:  2.6124236583709717\n",
            "NumPy time:  0.11897397041320801\n"
          ]
        }
      ]
    },
    {
      "cell_type": "markdown",
      "source": [
        "In this example, you will notice that the NumPy operation completes significantly faster than the list comprehension, underscoring the efficiency benefits of using NumPy.\n",
        "\n",
        "\n",
        "NumPy arrays are purpose-built for numerical computations and provide numerous advantages over Python lists, especially for large-scale operations. Their efficient memory usage, fast execution speeds, and rich functionality make them an essential tool in fields such as data science, machine learning, and scientific research."
      ],
      "metadata": {
        "id": "QFiStaSxmfmG"
      }
    },
    {
      "cell_type": "markdown",
      "source": [
        "#Question 7. Compare vstack() and hstack() functions in NumPy. Provide examples demonstrating their usage and output.\n",
        "\n",
        "#Answer :\n",
        "\n",
        "\n",
        "In NumPy, the functions vstack() and hstack() are used for stacking arrays in different orientations. Here’s a detailed look at each function along with examples to illustrate their usage and outputs.\n",
        "\n",
        "**1. vstack()**\n",
        "\n",
        "**Purpose:** This function stacks arrays vertically (along rows).\n",
        "\n",
        "**Requirement:** The arrays must have the same shape in all dimensions except for the first one."
      ],
      "metadata": {
        "id": "ZLBw_qZKqZHu"
      }
    },
    {
      "cell_type": "code",
      "source": [
        "#Example:\n",
        "\n",
        "import numpy as np\n",
        "\n",
        "# Define two 2D arrays\n",
        "array1 = np.array([[1, 2], [3, 4]])\n",
        "array2 = np.array([[5, 6], [7, 8]])\n",
        "\n",
        "# Stack the arrays vertically\n",
        "vertical_stack = np.vstack((array1, array2))\n",
        "\n",
        "print(\"Array 1:\")\n",
        "print(array1)\n",
        "print(\"\\nArray 2:\")\n",
        "print(array2)\n",
        "print(\"\\nVertical Stack:\")\n",
        "print(vertical_stack)"
      ],
      "metadata": {
        "colab": {
          "base_uri": "https://localhost:8080/"
        },
        "id": "Rhh0Dh1_qjKd",
        "outputId": "ccacde01-b909-4465-97b3-7885cb668c03"
      },
      "execution_count": 14,
      "outputs": [
        {
          "output_type": "stream",
          "name": "stdout",
          "text": [
            "Array 1:\n",
            "[[1 2]\n",
            " [3 4]]\n",
            "\n",
            "Array 2:\n",
            "[[5 6]\n",
            " [7 8]]\n",
            "\n",
            "Vertical Stack:\n",
            "[[1 2]\n",
            " [3 4]\n",
            " [5 6]\n",
            " [7 8]]\n"
          ]
        }
      ]
    },
    {
      "cell_type": "markdown",
      "source": [
        "**2. hstack()**\n",
        "\n",
        "**Purpose:** This function stacks arrays horizontally (along columns).\n",
        "\n",
        "**Requirement:** The arrays must have the same shape in all dimensions except for the second one."
      ],
      "metadata": {
        "id": "03jKdET6qqIG"
      }
    },
    {
      "cell_type": "code",
      "source": [
        "#Example:\n",
        "\n",
        "import numpy as np\n",
        "\n",
        "# Define two 2D arrays\n",
        "array1 = np.array([[1, 2], [3, 4]])\n",
        "array2 = np.array([[5, 6], [7, 8]])\n",
        "\n",
        "# Stack the arrays horizontally\n",
        "horizontal_stack = np.hstack((array1, array2))\n",
        "\n",
        "print(\"Array 1:\")\n",
        "print(array1)\n",
        "print(\"\\nArray 2:\")\n",
        "print(array2)\n",
        "print(\"\\nHorizontal Stack:\")\n",
        "print(horizontal_stack)"
      ],
      "metadata": {
        "colab": {
          "base_uri": "https://localhost:8080/"
        },
        "id": "B0B6iC8Pqwvn",
        "outputId": "b6780a1f-c017-42cf-fdf4-9646b7172f87"
      },
      "execution_count": 15,
      "outputs": [
        {
          "output_type": "stream",
          "name": "stdout",
          "text": [
            "Array 1:\n",
            "[[1 2]\n",
            " [3 4]]\n",
            "\n",
            "Array 2:\n",
            "[[5 6]\n",
            " [7 8]]\n",
            "\n",
            "Horizontal Stack:\n",
            "[[1 2 5 6]\n",
            " [3 4 7 8]]\n"
          ]
        }
      ]
    },
    {
      "cell_type": "markdown",
      "source": [
        "vstack() combines multiple arrays vertically, adding the rows of each array into a single new array.\n",
        "\n",
        "hstack() merges arrays horizontally, appending the columns of each array side by side.\n",
        "\n",
        "Both functions can take multiple arrays at once for stacking.\n",
        "It is essential to follow the shape requirements; otherwise, a ValueError will occur.\n",
        "\n",
        "These functions are useful for organizing data into multi-dimensional structures."
      ],
      "metadata": {
        "id": "-ZMPUGOwq5ww"
      }
    },
    {
      "cell_type": "markdown",
      "source": [
        "#Question 8. Explain the differences between fliplr() and flipud() methods in NumPy, including their effects on variousarray dimensions.\n",
        "\n",
        "#Answer :\n",
        "\n",
        "#fliplr()\n",
        "\n",
        "**Definition:** numpy.fliplr(m) is a function that flips an array horizontally (from left to right).\n",
        "\n",
        "**Impact on Array Dimensions:**\n",
        "\n",
        "**1D Arrays:** Flipping has no impact since there's no left or right to flip."
      ],
      "metadata": {
        "id": "wl5zF0h1rcDu"
      }
    },
    {
      "cell_type": "code",
      "source": [
        "import numpy as np\n",
        "arr1d = np.array([1, 2, 3])\n",
        "print(np.fliplr(arr1d.reshape(1, -1)))"
      ],
      "metadata": {
        "colab": {
          "base_uri": "https://localhost:8080/"
        },
        "id": "kn9AcZUhsU99",
        "outputId": "3d18971c-c1dd-4225-b04f-6bef58644a5f"
      },
      "execution_count": 16,
      "outputs": [
        {
          "output_type": "stream",
          "name": "stdout",
          "text": [
            "[[3 2 1]]\n"
          ]
        }
      ]
    },
    {
      "cell_type": "markdown",
      "source": [
        "**2D Arrays:**\n",
        "\n",
        "Each row is mirrored. The rightmost column becomes the leftmost, and so forth."
      ],
      "metadata": {
        "id": "ZEhHlP5WsZ8J"
      }
    },
    {
      "cell_type": "code",
      "source": [
        "arr2d = np.array([[1, 2, 3], [4, 5, 6]])\n",
        "print(np.fliplr(arr2d))"
      ],
      "metadata": {
        "colab": {
          "base_uri": "https://localhost:8080/"
        },
        "id": "sBOc9nXescL_",
        "outputId": "377281b3-473a-4f55-c258-80a5d625c25d"
      },
      "execution_count": 17,
      "outputs": [
        {
          "output_type": "stream",
          "name": "stdout",
          "text": [
            "[[3 2 1]\n",
            " [6 5 4]]\n"
          ]
        }
      ]
    },
    {
      "cell_type": "markdown",
      "source": [
        "**3D Arrays:**\n",
        "\n",
        "Each 2D slice along the last axis is flipped horizontally."
      ],
      "metadata": {
        "id": "tzAT_bLzsklZ"
      }
    },
    {
      "cell_type": "code",
      "source": [
        "arr3d = np.array([[[1, 2], [3, 4]], [[5, 6], [7, 8]]])\n",
        "print(np.fliplr(arr3d))"
      ],
      "metadata": {
        "colab": {
          "base_uri": "https://localhost:8080/"
        },
        "id": "LZqJXnsAsnbO",
        "outputId": "38e8efd4-fe92-43e6-c99e-99167519b4ac"
      },
      "execution_count": 18,
      "outputs": [
        {
          "output_type": "stream",
          "name": "stdout",
          "text": [
            "[[[3 4]\n",
            "  [1 2]]\n",
            "\n",
            " [[7 8]\n",
            "  [5 6]]]\n"
          ]
        }
      ]
    },
    {
      "cell_type": "markdown",
      "source": [
        "#flipud()\n",
        "**Definition:**\n",
        "numpy.flipud(m) flips an array vertically (from top to bottom).\n",
        "\n",
        "**Impact on Array Dimensions:**\n",
        "\n",
        "**1D Arrays:**\n",
        "Similar to fliplr(), it has no effect on 1D arrays"
      ],
      "metadata": {
        "id": "Lxd6IBbWswdJ"
      }
    },
    {
      "cell_type": "code",
      "source": [
        "arr1d = np.array([1, 2, 3])\n",
        "print(np.flipud(arr1d.reshape(1, -1)))"
      ],
      "metadata": {
        "colab": {
          "base_uri": "https://localhost:8080/"
        },
        "id": "fGp8pvXks-rX",
        "outputId": "28913961-fee3-4579-eabb-6d34bc911d06"
      },
      "execution_count": 19,
      "outputs": [
        {
          "output_type": "stream",
          "name": "stdout",
          "text": [
            "[[1 2 3]]\n"
          ]
        }
      ]
    },
    {
      "cell_type": "markdown",
      "source": [
        "**2D Arrays:**\n",
        "Each column is reversed, meaning the last row becomes the first, and so on."
      ],
      "metadata": {
        "id": "rLHU1GMTtBxt"
      }
    },
    {
      "cell_type": "code",
      "source": [
        "arr2d = np.array([[1, 2, 3], [4, 5, 6]])\n",
        "print(np.flipud(arr2d))"
      ],
      "metadata": {
        "colab": {
          "base_uri": "https://localhost:8080/"
        },
        "id": "LAajFPMOtHc-",
        "outputId": "83bd1c27-5f60-49e5-8956-567805b11a03"
      },
      "execution_count": 20,
      "outputs": [
        {
          "output_type": "stream",
          "name": "stdout",
          "text": [
            "[[4 5 6]\n",
            " [1 2 3]]\n"
          ]
        }
      ]
    },
    {
      "cell_type": "markdown",
      "source": [
        "**3D Arrays:**\n",
        "Each 2D slice along the last axis is flipped vertically.\n",
        "\n"
      ],
      "metadata": {
        "id": "DhCtKSsrtKT1"
      }
    },
    {
      "cell_type": "code",
      "source": [
        "arr3d = np.array([[[1, 2], [3, 4]], [[5, 6], [7, 8]]])\n",
        "print(np.flipud(arr3d))"
      ],
      "metadata": {
        "colab": {
          "base_uri": "https://localhost:8080/"
        },
        "id": "4xqTK-0ftOMe",
        "outputId": "6778a619-f637-47f3-dd48-25e5e5bded89"
      },
      "execution_count": 21,
      "outputs": [
        {
          "output_type": "stream",
          "name": "stdout",
          "text": [
            "[[[5 6]\n",
            "  [7 8]]\n",
            "\n",
            " [[1 2]\n",
            "  [3 4]]]\n"
          ]
        }
      ]
    },
    {
      "cell_type": "markdown",
      "source": [
        "**Key Differences**\n",
        "\n",
        "**Direction of Flipping:**\n",
        "\n",
        "fliplr(): Mirrors the array horizontally (left to right).\n",
        "\n",
        "flipud(): Mirrors the array vertically (top to bottom).\n",
        "\n",
        "**Effects on Array Dimensions:**\n",
        "Both methods do not change 1D arrays.\n",
        "\n",
        "For 2D arrays, fliplr() reverses the order of columns, while flipud() reverses the order of rows.\n",
        "\n",
        "For 3D arrays, both methods flip each 2D slice along the corresponding axis.\n",
        "\n",
        "These methods are particularly useful for data manipulation tasks, such as image processing, where flipping images or datasets is a common requirement.\n"
      ],
      "metadata": {
        "id": "lwgzo-AjtRO7"
      }
    },
    {
      "cell_type": "markdown",
      "source": [
        "\n",
        "#Question 9. Discuss the functionality of the array_split() method in NumPy. How does it handle uneven splits?\n",
        "\n",
        "#Answer :\n",
        "\n",
        "The numpy.array_split() function in NumPy is a useful method for dividing an array into multiple sub-arrays along a specified axis. Here’s an overview of its features and how it manages uneven splits:\n",
        "\n",
        "**Overview of Functionality**\n",
        "\n",
        "**Basic Syntax:**\n",
        "numpy.array_split(ary, indices_or_sections, axis=0)\n",
        "\n",
        "\n",
        "**ary:**\n",
        "The array that you wish to split.\n",
        "\n",
        "**indices_or_sections:**\n",
        "This can be either an integer or a sequence. If it’s an integer, it indicates the number of equal parts to divide the array into. If it’s a sequence, it specifies the indices at which to split the array.\n",
        "\n",
        "**axis:**\n",
        "This defines the axis along which the array will be split (default is 0, corresponding to the first axis).\n",
        "\n",
        "\n",
        "**Handling Even and Uneven Splits**\n",
        "\n",
        "**Even Splits:**\n",
        "If the total number of elements in the array can be evenly divided by the number of sections requested, array_split() will generate the specified number of sub-arrays of equal length.\n",
        "\n",
        "**Uneven Splits:**\n",
        "When the array cannot be split evenly (for example, splitting an array of 10 elements into 3 sections), array_split() distributes the elements as evenly as possible.In such cases, some of the sub-arrays will contain one more element than the others."
      ],
      "metadata": {
        "id": "Yv_2grzYu0G5"
      }
    },
    {
      "cell_type": "code",
      "source": [
        "#For instance:\n",
        "\n",
        "import numpy as np\n",
        "\n",
        "arr = np.arange(10)  # Creates an array: [0, 1, 2, 3, 4, 5, 6, 7, 8, 9]\n",
        "result = np.array_split(arr, 3)  # Splits into 3 parts\n",
        "print(result)"
      ],
      "metadata": {
        "colab": {
          "base_uri": "https://localhost:8080/"
        },
        "id": "bf6bUOAUvQMQ",
        "outputId": "165c2354-1ac1-416f-c7d1-654219855286"
      },
      "execution_count": 22,
      "outputs": [
        {
          "output_type": "stream",
          "name": "stdout",
          "text": [
            "[array([0, 1, 2, 3]), array([4, 5, 6]), array([7, 8, 9])]\n"
          ]
        }
      ]
    },
    {
      "cell_type": "markdown",
      "source": [
        "Here, the first sub-array contains 4 elements, while the second has 2, and the third has 4.\n",
        "\n",
        "\n",
        "**Important Points**\n",
        "\n",
        "\n",
        "array_split() allows for splitting along any specified axis, providing flexibility in how data is handled.\n",
        "\n",
        "The function consistently returns a list of sub-arrays, which may differ in size when the split is uneven.\n",
        "\n",
        "It is particularly beneficial for processing segments of larger datasets, such as during cross-validation in machine learning or for parallel computations.\n",
        "\n",
        "numpy.array_split() efficiently manages both even and uneven splits, ensuring a balanced distribution of elements, which makes it an essential tool for data manipulation within NumPy."
      ],
      "metadata": {
        "id": "CI77FIDzvYre"
      }
    },
    {
      "cell_type": "markdown",
      "source": [
        "#Question 10. Explain the concepts of vectorization and broadcasting in NumPy. How do they contribute to efficient array operations?\n",
        "\n",
        "#Answer :\n",
        "\n",
        "**Vectorization**\n",
        "\n",
        "**Definition:**\n",
        "Vectorization in NumPy is the technique of applying operations to entire arrays rather than individual elements. This approach allows you to perform computations on large datasets simultaneously, eliminating the need for explicit loops.\n",
        "\n",
        "\n",
        "**Benefits:**\n",
        "\n",
        "**Performance:** Vectorized operations are generally much faster than looping through elements. NumPy achieves this speed by utilizing optimized C and Fortran libraries, reducing the overhead associated with Python loops.\n",
        "\n",
        "**Code Clarity:** Utilizing vectorized operations can lead to more concise and readable code, making it easier to understand and maintain."
      ],
      "metadata": {
        "id": "hFkCMJHDv_Cl"
      }
    },
    {
      "cell_type": "code",
      "source": [
        "#Example:\n",
        "import numpy as np\n",
        "\n",
        "# Define two arrays\n",
        "a = np.array([1, 2, 3])\n",
        "b = np.array([4, 5, 6])\n",
        "\n",
        "# Perform vectorized addition\n",
        "c = a + b  # Results in array([5, 7, 9])\n"
      ],
      "metadata": {
        "id": "9nhhGm4MwNWG"
      },
      "execution_count": 24,
      "outputs": []
    },
    {
      "cell_type": "markdown",
      "source": [
        "**Broadcasting**\n",
        "\n",
        "\n",
        "**Definition:**\n",
        "Broadcasting is a powerful feature in NumPy that allows you to perform arithmetic operations on arrays of differing shapes without manually replicating data. It automatically expands the dimensions of the smaller array to match the larger one during operations.\n",
        "\n",
        "\n",
        "**Rules for Broadcasting:**\n",
        "If the arrays have a different number of dimensions, the shape of the smaller array is padded with ones on the left until both arrays have the same shape.\n",
        "\n",
        "**Two arrays are compatible for operations if:**\n",
        "They share the same shape, or One of the arrays has a shape of 1 in any dimension.\n",
        "\n",
        "\n",
        "**Benefits:**\n",
        "\n",
        "**Memory Efficiency:** Broadcasting prevents the need to create large intermediate arrays, conserving both memory and processing time.\n",
        "Ease of Use: This feature simplifies the implementation of operations on arrays of various sizes without manual adjustments or iterations."
      ],
      "metadata": {
        "id": "12FLLlCswtiW"
      }
    },
    {
      "cell_type": "code",
      "source": [
        "#Example:\n",
        "\n",
        "import numpy as np\n",
        "\n",
        "# Create a 1D array and a 2D array\n",
        "a = np.array([1, 2, 3])  # Shape (3,)\n",
        "b = np.array([[10], [20], [30]])  # Shape (3, 1)\n",
        "\n",
        "# Use broadcasting to add the arrays\n",
        "c = a + b  # Produces a (3, 3) array: [[11, 12, 13], [21, 22, 23], [31, 32, 33]]"
      ],
      "metadata": {
        "id": "geuIDKiJxLzn"
      },
      "execution_count": 25,
      "outputs": []
    },
    {
      "cell_type": "markdown",
      "source": [
        "Vectorization and broadcasting are essential features of NumPy that enhance the efficiency of array operations. They enable clean, high-performance computations, making NumPy a preferred choice for various applications in data analysis, scientific computing, and machine learning.\n",
        "\n"
      ],
      "metadata": {
        "id": "tvdk4PEExhXV"
      }
    },
    {
      "cell_type": "markdown",
      "source": [
        "#Practical Questions"
      ],
      "metadata": {
        "id": "iNSbY-twyTU2"
      }
    },
    {
      "cell_type": "markdown",
      "source": [
        "#Question 1. Create a 3x3 NumPy array with random integers between 1 and 100. Then, interchange its rows and columns.\n",
        "\n",
        "#Answer:"
      ],
      "metadata": {
        "id": "Bp4gq0O6pfWX"
      }
    },
    {
      "cell_type": "code",
      "source": [
        "import numpy as np\n",
        "\n",
        "# Generate a 3x3 array with random integers from 1 to 100\n",
        "array = np.random.randint(1, 101, size=(3, 3))\n",
        "print(\"Original array:\")\n",
        "print(array)\n",
        "\n",
        "# Transpose the array to interchange rows and columns\n",
        "transposed_array = array.T\n",
        "print(\"\\nTransposed array:\")\n",
        "print(transposed_array)"
      ],
      "metadata": {
        "colab": {
          "base_uri": "https://localhost:8080/"
        },
        "id": "N3DIfHaQplxU",
        "outputId": "d9644eaf-e3bc-4393-d7b8-139a2e38f5df"
      },
      "execution_count": null,
      "outputs": [
        {
          "output_type": "stream",
          "name": "stdout",
          "text": [
            "Original array:\n",
            "[[38 75 12]\n",
            " [19 72 72]\n",
            " [38 62 18]]\n",
            "\n",
            "Transposed array:\n",
            "[[38 19 38]\n",
            " [75 72 62]\n",
            " [12 72 18]]\n"
          ]
        }
      ]
    },
    {
      "cell_type": "markdown",
      "source": [
        "This code will create a 3x3 array filled with random integers between 1 and 100, and then transpose it to swap the rows and columns.\n",
        "\n"
      ],
      "metadata": {
        "id": "_EjLjeylqp0D"
      }
    },
    {
      "cell_type": "markdown",
      "source": [
        "#Question 2. Generate a 1D NumPy array with 10 elements. Reshape it into a 2x5 array, then into a 5x2 array\n",
        "\n",
        "#Answer:\n",
        "\n",
        "Below code to generate a 1D NumPy array with 10 elements, then reshape it into a 2x5 array and finally into a 5x2 array:"
      ],
      "metadata": {
        "id": "3QfS_YBwqxpm"
      }
    },
    {
      "cell_type": "code",
      "source": [
        "import numpy as np\n",
        "\n",
        "# Create a 1D array with 10 elements\n",
        "array_1d = np.arange(10)\n",
        "\n",
        "# Reshape the 1D array to a 2x5 array\n",
        "array_2x5 = array_1d.reshape(2, 5)\n",
        "\n",
        "# Reshape the 2x5 array to a 5x2 array\n",
        "array_5x2 = array_2x5.reshape(5, 2)\n",
        "\n",
        "print(\"Original 1D array:\")\n",
        "print(array_1d)\n",
        "print(\"\\nReshaped to 2x5 array:\")\n",
        "print(array_2x5)\n",
        "print(\"\\nReshaped to 5x2 array:\")\n",
        "print(array_5x2)"
      ],
      "metadata": {
        "colab": {
          "base_uri": "https://localhost:8080/"
        },
        "id": "-gmITCbaraOm",
        "outputId": "88b7aa38-07ff-40ec-d750-fe5a909b532d"
      },
      "execution_count": null,
      "outputs": [
        {
          "output_type": "stream",
          "name": "stdout",
          "text": [
            "Original 1D array:\n",
            "[0 1 2 3 4 5 6 7 8 9]\n",
            "\n",
            "Reshaped to 2x5 array:\n",
            "[[0 1 2 3 4]\n",
            " [5 6 7 8 9]]\n",
            "\n",
            "Reshaped to 5x2 array:\n",
            "[[0 1]\n",
            " [2 3]\n",
            " [4 5]\n",
            " [6 7]\n",
            " [8 9]]\n"
          ]
        }
      ]
    },
    {
      "cell_type": "markdown",
      "source": [
        "#Question 3. Create a 4x4 NumPy array with random float values. Add a border of zeros around it, resulting in a 6x6 array.\n",
        "\n",
        "#Answer:"
      ],
      "metadata": {
        "id": "vSmYaZfcr42i"
      }
    },
    {
      "cell_type": "code",
      "source": [
        "import numpy as np\n",
        "\n",
        "# Generate a 4x4 array with random float values\n",
        "random_array = np.random.rand(4, 4)\n",
        "\n",
        "# Add a border of zeros to create a 6x6 array\n",
        "bordered_array = np.pad(random_array, pad_width=1, mode='constant', constant_values=0)\n",
        "\n",
        "print(\"Original 4x4 array with random float values:\\n\", random_array)\n",
        "print(\"\\n6x6 array with a border of zeros:\\n\", bordered_array)\n"
      ],
      "metadata": {
        "colab": {
          "base_uri": "https://localhost:8080/"
        },
        "id": "q9JJVw3jr-Sb",
        "outputId": "0426c6fe-6e60-4f1d-aff9-637ca24eac28"
      },
      "execution_count": null,
      "outputs": [
        {
          "output_type": "stream",
          "name": "stdout",
          "text": [
            "Original 4x4 array with random float values:\n",
            " [[0.30955998 0.11251267 0.73119864 0.94217388]\n",
            " [0.685327   0.93397372 0.82576167 0.52653407]\n",
            " [0.47208369 0.39565694 0.72491265 0.32143466]\n",
            " [0.08444018 0.74538661 0.85813405 0.23104169]]\n",
            "\n",
            "6x6 array with a border of zeros:\n",
            " [[0.         0.         0.         0.         0.         0.        ]\n",
            " [0.         0.30955998 0.11251267 0.73119864 0.94217388 0.        ]\n",
            " [0.         0.685327   0.93397372 0.82576167 0.52653407 0.        ]\n",
            " [0.         0.47208369 0.39565694 0.72491265 0.32143466 0.        ]\n",
            " [0.         0.08444018 0.74538661 0.85813405 0.23104169 0.        ]\n",
            " [0.         0.         0.         0.         0.         0.        ]]\n"
          ]
        }
      ]
    },
    {
      "cell_type": "markdown",
      "source": [
        "This code snippet uses np.random.rand to generate the random values and np.pad to add the zero border."
      ],
      "metadata": {
        "id": "YGkhEM1_sKFj"
      }
    },
    {
      "cell_type": "markdown",
      "source": [
        "#Question 4. Using NumPy, create an array of integers from 10 to 60 with a step of 5.\n",
        "\n",
        "#Answer:"
      ],
      "metadata": {
        "id": "HRE6pMibsPsv"
      }
    },
    {
      "cell_type": "code",
      "source": [
        "import numpy as np\n",
        "\n",
        "# Generate an array of integers from 10 to 60 with a step of 5\n",
        "integer_array = np.arange(10, 65, 5)\n",
        "\n",
        "print(\"Array of integers from 10 to 60 with a step of 5:\\n\", integer_array)"
      ],
      "metadata": {
        "colab": {
          "base_uri": "https://localhost:8080/"
        },
        "id": "RvYYrsvCsUc1",
        "outputId": "6998f78c-7498-4c9c-bfeb-b8af0f34b521"
      },
      "execution_count": null,
      "outputs": [
        {
          "output_type": "stream",
          "name": "stdout",
          "text": [
            "Array of integers from 10 to 60 with a step of 5:\n",
            " [10 15 20 25 30 35 40 45 50 55 60]\n"
          ]
        }
      ]
    },
    {
      "cell_type": "markdown",
      "source": [
        "This code snippet uses np.arange to create the array, starting at 10 and ending before 65, with increments of 5."
      ],
      "metadata": {
        "id": "KE2rvHvjsi2N"
      }
    },
    {
      "cell_type": "markdown",
      "source": [
        "#Question 5. Create a NumPy array of strings ['python', 'numpy', 'pandas']. Apply different case transformations (uppercase, lowercase, title case, etc.) to each element.\n",
        "\n",
        "#Answer:"
      ],
      "metadata": {
        "id": "06Mv9qcpsqKO"
      }
    },
    {
      "cell_type": "code",
      "source": [
        "import numpy as np\n",
        "\n",
        "# Initialize a NumPy array containing strings\n",
        "string_array = np.array(['python', 'numpy', 'pandas'])\n",
        "\n",
        "# Perform various case transformations\n",
        "uppercase_strings = np.char.upper(string_array)      # Convert to uppercase\n",
        "lowercase_strings = np.char.lower(string_array)      # Convert to lowercase\n",
        "titlecase_strings = np.char.title(string_array)      # Convert to title case\n",
        "capitalized_strings = np.char.capitalize(string_array) # Capitalize the first letter of each string\n",
        "\n",
        "# Print the results\n",
        "print(\"Original Array: \", string_array)\n",
        "print(\"Uppercase: \", uppercase_strings)\n",
        "print(\"Lowercase: \", lowercase_strings)\n",
        "print(\"Title Case: \", titlecase_strings)\n",
        "print(\"Capitalized: \", capitalized_strings)"
      ],
      "metadata": {
        "colab": {
          "base_uri": "https://localhost:8080/"
        },
        "id": "ZOPoXO7tswEz",
        "outputId": "a9d8f68f-fe41-4703-f7b8-e4cf5916c70f"
      },
      "execution_count": null,
      "outputs": [
        {
          "output_type": "stream",
          "name": "stdout",
          "text": [
            "Original Array:  ['python' 'numpy' 'pandas']\n",
            "Uppercase:  ['PYTHON' 'NUMPY' 'PANDAS']\n",
            "Lowercase:  ['python' 'numpy' 'pandas']\n",
            "Title Case:  ['Python' 'Numpy' 'Pandas']\n",
            "Capitalized:  ['Python' 'Numpy' 'Pandas']\n"
          ]
        }
      ]
    },
    {
      "cell_type": "markdown",
      "source": [
        "Above code demonstrates how to manipulate strings in a NumPy array using different case transformations."
      ],
      "metadata": {
        "id": "u8waA6FrtGxs"
      }
    },
    {
      "cell_type": "markdown",
      "source": [
        "#Question 6. Generate a NumPy array of words. Insert a space between each character of every word in the array.\n",
        "\n",
        "#Answer:"
      ],
      "metadata": {
        "id": "DapsTYNXtNvc"
      }
    },
    {
      "cell_type": "code",
      "source": [
        "import numpy as np\n",
        "\n",
        "# Define a NumPy array with a list of words\n",
        "words_array = np.array(['hello', 'world', 'numpy', 'array', 'example'])\n",
        "\n",
        "# Create a new array with spaces added between each character in the words\n",
        "spaced_words_array = np.array([' '.join(char for char in word) for word in words_array])\n",
        "\n",
        "print(spaced_words_array)\n"
      ],
      "metadata": {
        "colab": {
          "base_uri": "https://localhost:8080/"
        },
        "id": "dLPxG63AtSvl",
        "outputId": "3ba78ed4-d293-4836-b192-97eae0031127"
      },
      "execution_count": null,
      "outputs": [
        {
          "output_type": "stream",
          "name": "stdout",
          "text": [
            "['h e l l o' 'w o r l d' 'n u m p y' 'a r r a y' 'e x a m p l e']\n"
          ]
        }
      ]
    },
    {
      "cell_type": "markdown",
      "source": [
        "This code achieves the same result by using a different structure and wording. When executed, the output will still be:\n",
        "\n",
        "Each word in the array now has spaces between its characters."
      ],
      "metadata": {
        "id": "tZcAmKjmtmXl"
      }
    },
    {
      "cell_type": "markdown",
      "source": [
        "#Question 7. Create two 2D NumPy arrays and perform element-wise addition, subtraction, multiplication, and division.\n",
        "\n",
        "#Answer:"
      ],
      "metadata": {
        "id": "Ld9E_gZctwRF"
      }
    },
    {
      "cell_type": "code",
      "source": [
        "import numpy as np\n",
        "\n",
        "# Define two 2D arrays\n",
        "array1 = np.array([[1, 2, 3], [4, 5, 6]])\n",
        "array2 = np.array([[7, 8, 9], [10, 11, 12]])\n",
        "\n",
        "# Perform element-wise operations\n",
        "addition = np.add(array1, array2)\n",
        "subtraction = np.subtract(array1, array2)\n",
        "multiplication = np.multiply(array1, array2)\n",
        "division = np.divide(array1, array2)\n",
        "\n",
        "# Display the results\n",
        "print(\"Array 1:\\n\", array1)\n",
        "print(\"Array 2:\\n\", array2)\n",
        "print(\"Element-wise Addition:\\n\", addition)\n",
        "print(\"Element-wise Subtraction:\\n\", subtraction)\n",
        "print(\"Element-wise Multiplication:\\n\", multiplication)\n",
        "print(\"Element-wise Division:\\n\", division)\n"
      ],
      "metadata": {
        "colab": {
          "base_uri": "https://localhost:8080/"
        },
        "id": "KbF59e1bt0v2",
        "outputId": "449ef727-0a3e-4705-93e7-11128f2f874d"
      },
      "execution_count": null,
      "outputs": [
        {
          "output_type": "stream",
          "name": "stdout",
          "text": [
            "Array 1:\n",
            " [[1 2 3]\n",
            " [4 5 6]]\n",
            "Array 2:\n",
            " [[ 7  8  9]\n",
            " [10 11 12]]\n",
            "Element-wise Addition:\n",
            " [[ 8 10 12]\n",
            " [14 16 18]]\n",
            "Element-wise Subtraction:\n",
            " [[-6 -6 -6]\n",
            " [-6 -6 -6]]\n",
            "Element-wise Multiplication:\n",
            " [[ 7 16 27]\n",
            " [40 55 72]]\n",
            "Element-wise Division:\n",
            " [[0.14285714 0.25       0.33333333]\n",
            " [0.4        0.45454545 0.5       ]]\n"
          ]
        }
      ]
    },
    {
      "cell_type": "markdown",
      "source": [
        "#Question 8. Use NumPy to create a 5x5 identity matrix, then extract its diagonal elements.\n",
        "\n",
        "#Answer:"
      ],
      "metadata": {
        "id": "5rWlQDUjuDKW"
      }
    },
    {
      "cell_type": "code",
      "source": [
        "import numpy as np\n",
        "\n",
        "# Generate a 5x5 identity matrix\n",
        "identity_matrix = np.eye(5)\n",
        "\n",
        "# Get the diagonal elements\n",
        "diagonal_elements = np.diagonal(identity_matrix)\n",
        "\n",
        "print(\"5x5 Identity Matrix:\\n\", identity_matrix)\n",
        "print(\"Diagonal Elements:\", diagonal_elements)"
      ],
      "metadata": {
        "colab": {
          "base_uri": "https://localhost:8080/"
        },
        "id": "dURxAvpruIml",
        "outputId": "c703a82a-c64f-448b-e325-800e417dcbce"
      },
      "execution_count": null,
      "outputs": [
        {
          "output_type": "stream",
          "name": "stdout",
          "text": [
            "5x5 Identity Matrix:\n",
            " [[1. 0. 0. 0. 0.]\n",
            " [0. 1. 0. 0. 0.]\n",
            " [0. 0. 1. 0. 0.]\n",
            " [0. 0. 0. 1. 0.]\n",
            " [0. 0. 0. 0. 1.]]\n",
            "Diagonal Elements: [1. 1. 1. 1. 1.]\n"
          ]
        }
      ]
    },
    {
      "cell_type": "markdown",
      "source": [
        "#Question 9. Generate a NumPy array of 100 random integers between 0 and 1000. Find and display all prime numbers in this array.\n",
        "\n",
        "#Answer:\n",
        "\n",
        "The below code to generate a NumPy array of 100 random integers between 0 and 1000, and then find and display all the prime numbers in this array:"
      ],
      "metadata": {
        "id": "kA-1FRMcua8O"
      }
    },
    {
      "cell_type": "code",
      "source": [
        "import numpy as np\n",
        "\n",
        "# Create an array of 100 random integers between 0 and 1000\n",
        "random_numbers = np.random.randint(0, 1001, 100)\n",
        "\n",
        "# Function to determine if a number is prime\n",
        "def check_prime(num):\n",
        "    if num <= 1:\n",
        "        return False\n",
        "    for i in range(2, int(np.sqrt(num)) + 1):\n",
        "        if num % i == 0:\n",
        "            return False\n",
        "    return True\n",
        "\n",
        "# Extract prime numbers from the array\n",
        "primes = [number for number in random_numbers if check_prime(number)]\n",
        "\n",
        "print(\"Random numbers:\", random_numbers)\n",
        "print(\"Prime numbers:\", primes)\n"
      ],
      "metadata": {
        "colab": {
          "base_uri": "https://localhost:8080/"
        },
        "id": "h11bSwM6umI7",
        "outputId": "dfa8ab04-1853-4cf2-c3e0-e7089a425e0a"
      },
      "execution_count": null,
      "outputs": [
        {
          "output_type": "stream",
          "name": "stdout",
          "text": [
            "Random numbers: [900 706 813 130 453 638 310 869 630 821 196 106 349 952 950 575  57 351\n",
            " 137 509 815 740 952 110 451 560 303 234 526  26 382 533 900 510  98  11\n",
            " 771  84 741 692  79 309 613 172 128 435 958 583 314 717 550 806 164 676\n",
            "  72 411 233 970 336 351 834 702 373 530 200 415   3 586 659 518 409 759\n",
            " 896 355   3 787 710 482 723 721 393 666 440 371 310 550 265  54 498 917\n",
            " 623 273 323 251 956 948 154 484 688 708]\n",
            "Prime numbers: [821, 349, 137, 509, 11, 79, 613, 233, 373, 3, 659, 409, 3, 787, 251]\n"
          ]
        }
      ]
    },
    {
      "cell_type": "markdown",
      "source": [
        "This code snippet generates an array of random integers and identifies the prime numbers within it."
      ],
      "metadata": {
        "id": "K8yMRI2Uu23O"
      }
    },
    {
      "cell_type": "markdown",
      "source": [
        "#Question 10. Create a NumPy array representing daily temperatures for a month. Calculate and display the weekly averages.\n",
        "\n",
        "#Answer:\n",
        "\n",
        "a NumPy array for daily temperatures over a month and calculate the weekly averages:"
      ],
      "metadata": {
        "id": "jbNlb6XKu-N9"
      }
    },
    {
      "cell_type": "code",
      "source": [
        "import numpy as np\n",
        "\n",
        "# Create an array with daily temperatures for 30 days\n",
        "daily_temperatures = np.random.randint(20, 35, size=30)  # Temperatures between 20°C and 35°C\n",
        "\n",
        "# Compute weekly averages\n",
        "weekly_averages = [np.mean(daily_temperatures[i:i+7]) for i in range(0, 30, 7)]\n",
        "\n",
        "# Print the results\n",
        "print(\"Daily Temperatures for the Month:\", daily_temperatures)\n",
        "print(\"Weekly Averages:\", weekly_averages)"
      ],
      "metadata": {
        "colab": {
          "base_uri": "https://localhost:8080/"
        },
        "id": "vsX2uQsmvKdd",
        "outputId": "93c43e68-4b73-4814-ace2-9d1a69dda8c3"
      },
      "execution_count": null,
      "outputs": [
        {
          "output_type": "stream",
          "name": "stdout",
          "text": [
            "Daily Temperatures for the Month: [31 29 22 22 27 33 22 23 31 32 26 26 31 33 29 34 34 22 33 30 24 33 23 34\n",
            " 33 33 32 32 31 29]\n",
            "Weekly Averages: [26.571428571428573, 28.857142857142858, 29.428571428571427, 31.428571428571427, 30.0]\n"
          ]
        }
      ]
    },
    {
      "cell_type": "markdown",
      "source": [
        "\n",
        "Above code generates random temperatures between 20°C and 35°C for 30 days, calculates the average temperature for each week, and prints both the daily temperatures and the weekly averages."
      ],
      "metadata": {
        "id": "r-X7aD9uvlG2"
      }
    },
    {
      "cell_type": "markdown",
      "source": [],
      "metadata": {
        "id": "S6e7v3IOqrhd"
      }
    },
    {
      "cell_type": "code",
      "source": [],
      "metadata": {
        "id": "AtolJrZ2qXEW"
      },
      "execution_count": null,
      "outputs": []
    }
  ]
}